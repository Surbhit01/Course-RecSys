{
 "cells": [
  {
   "cell_type": "code",
   "execution_count": 34,
   "metadata": {},
   "outputs": [],
   "source": [
    "import numpy as np\n",
    "import pandas as pd\n",
    "import matplotlib.pyplot as plt\n",
    "import seaborn as sns\n",
    "from tabulate import tabulate\n",
    "from textwrap import fill\n",
    "from sklearn.feature_extraction.text import TfidfVectorizer\n",
    "from sklearn.metrics.pairwise import linear_kernel, cosine_similarity"
   ]
  },
  {
   "cell_type": "code",
   "execution_count": 2,
   "metadata": {},
   "outputs": [
    {
     "data": {
      "text/html": [
       "<div>\n",
       "<style scoped>\n",
       "    .dataframe tbody tr th:only-of-type {\n",
       "        vertical-align: middle;\n",
       "    }\n",
       "\n",
       "    .dataframe tbody tr th {\n",
       "        vertical-align: top;\n",
       "    }\n",
       "\n",
       "    .dataframe thead th {\n",
       "        text-align: right;\n",
       "    }\n",
       "</style>\n",
       "<table border=\"1\" class=\"dataframe\">\n",
       "  <thead>\n",
       "    <tr style=\"text-align: right;\">\n",
       "      <th></th>\n",
       "      <th>Course Name</th>\n",
       "      <th>University</th>\n",
       "      <th>Difficulty Level</th>\n",
       "      <th>Course Rating</th>\n",
       "      <th>Course URL</th>\n",
       "      <th>Course Description</th>\n",
       "      <th>Skills</th>\n",
       "    </tr>\n",
       "  </thead>\n",
       "  <tbody>\n",
       "    <tr>\n",
       "      <th>0</th>\n",
       "      <td>Write A Feature Length Screenplay For Film Or ...</td>\n",
       "      <td>Michigan State University</td>\n",
       "      <td>Beginner</td>\n",
       "      <td>4.8</td>\n",
       "      <td>https://www.coursera.org/learn/write-a-feature...</td>\n",
       "      <td>Write a Full Length Feature Film Script  In th...</td>\n",
       "      <td>Drama  Comedy  peering  screenwriting  film  D...</td>\n",
       "    </tr>\n",
       "    <tr>\n",
       "      <th>1</th>\n",
       "      <td>Business Strategy: Business Model Canvas Analy...</td>\n",
       "      <td>Coursera Project Network</td>\n",
       "      <td>Beginner</td>\n",
       "      <td>4.8</td>\n",
       "      <td>https://www.coursera.org/learn/canvas-analysis...</td>\n",
       "      <td>By the end of this guided project, you will be...</td>\n",
       "      <td>Finance  business plan  persona (user experien...</td>\n",
       "    </tr>\n",
       "    <tr>\n",
       "      <th>2</th>\n",
       "      <td>Silicon Thin Film Solar Cells</td>\n",
       "      <td>�cole Polytechnique</td>\n",
       "      <td>Advanced</td>\n",
       "      <td>4.1</td>\n",
       "      <td>https://www.coursera.org/learn/silicon-thin-fi...</td>\n",
       "      <td>This course consists of a general presentation...</td>\n",
       "      <td>chemistry  physics  Solar Energy  film  lambda...</td>\n",
       "    </tr>\n",
       "    <tr>\n",
       "      <th>3</th>\n",
       "      <td>Finance for Managers</td>\n",
       "      <td>IESE Business School</td>\n",
       "      <td>Intermediate</td>\n",
       "      <td>4.8</td>\n",
       "      <td>https://www.coursera.org/learn/operational-fin...</td>\n",
       "      <td>When it comes to numbers, there is always more...</td>\n",
       "      <td>accounts receivable  dupont analysis  analysis...</td>\n",
       "    </tr>\n",
       "    <tr>\n",
       "      <th>4</th>\n",
       "      <td>Retrieve Data using Single-Table SQL Queries</td>\n",
       "      <td>Coursera Project Network</td>\n",
       "      <td>Beginner</td>\n",
       "      <td>4.6</td>\n",
       "      <td>https://www.coursera.org/learn/single-table-sq...</td>\n",
       "      <td>In this course you�ll learn how to effectively...</td>\n",
       "      <td>Data Analysis  select (sql)  database manageme...</td>\n",
       "    </tr>\n",
       "  </tbody>\n",
       "</table>\n",
       "</div>"
      ],
      "text/plain": [
       "                                         Course Name  \\\n",
       "0  Write A Feature Length Screenplay For Film Or ...   \n",
       "1  Business Strategy: Business Model Canvas Analy...   \n",
       "2                      Silicon Thin Film Solar Cells   \n",
       "3                               Finance for Managers   \n",
       "4       Retrieve Data using Single-Table SQL Queries   \n",
       "\n",
       "                  University Difficulty Level Course Rating  \\\n",
       "0  Michigan State University         Beginner           4.8   \n",
       "1   Coursera Project Network         Beginner           4.8   \n",
       "2        �cole Polytechnique         Advanced           4.1   \n",
       "3       IESE Business School     Intermediate           4.8   \n",
       "4   Coursera Project Network         Beginner           4.6   \n",
       "\n",
       "                                          Course URL  \\\n",
       "0  https://www.coursera.org/learn/write-a-feature...   \n",
       "1  https://www.coursera.org/learn/canvas-analysis...   \n",
       "2  https://www.coursera.org/learn/silicon-thin-fi...   \n",
       "3  https://www.coursera.org/learn/operational-fin...   \n",
       "4  https://www.coursera.org/learn/single-table-sq...   \n",
       "\n",
       "                                  Course Description  \\\n",
       "0  Write a Full Length Feature Film Script  In th...   \n",
       "1  By the end of this guided project, you will be...   \n",
       "2  This course consists of a general presentation...   \n",
       "3  When it comes to numbers, there is always more...   \n",
       "4  In this course you�ll learn how to effectively...   \n",
       "\n",
       "                                              Skills  \n",
       "0  Drama  Comedy  peering  screenwriting  film  D...  \n",
       "1  Finance  business plan  persona (user experien...  \n",
       "2  chemistry  physics  Solar Energy  film  lambda...  \n",
       "3  accounts receivable  dupont analysis  analysis...  \n",
       "4  Data Analysis  select (sql)  database manageme...  "
      ]
     },
     "execution_count": 2,
     "metadata": {},
     "output_type": "execute_result"
    }
   ],
   "source": [
    "data = r\"data/data.csv\"\n",
    "df = pd.read_csv(data)\n",
    "df.head()"
   ]
  },
  {
   "cell_type": "code",
   "execution_count": 3,
   "metadata": {},
   "outputs": [
    {
     "name": "stdout",
     "output_type": "stream",
     "text": [
      "Shape : (3522, 7)\n"
     ]
    }
   ],
   "source": [
    "print(f\"Shape : {df.shape}\")"
   ]
  },
  {
   "cell_type": "code",
   "execution_count": 4,
   "metadata": {},
   "outputs": [
    {
     "data": {
      "text/plain": [
       "(3522, 6)"
      ]
     },
     "execution_count": 4,
     "metadata": {},
     "output_type": "execute_result"
    }
   ],
   "source": [
    "#Dropping course url column\n",
    "\n",
    "drop_cols = [\"Course URL\"]\n",
    "df.drop(columns=drop_cols, inplace=True)\n",
    "df.shape"
   ]
  },
  {
   "cell_type": "code",
   "execution_count": 5,
   "metadata": {},
   "outputs": [
    {
     "name": "stdout",
     "output_type": "stream",
     "text": [
      "<class 'pandas.core.frame.DataFrame'>\n",
      "RangeIndex: 3522 entries, 0 to 3521\n",
      "Data columns (total 6 columns):\n",
      " #   Column              Non-Null Count  Dtype \n",
      "---  ------              --------------  ----- \n",
      " 0   Course Name         3522 non-null   object\n",
      " 1   University          3522 non-null   object\n",
      " 2   Difficulty Level    3522 non-null   object\n",
      " 3   Course Rating       3522 non-null   object\n",
      " 4   Course Description  3522 non-null   object\n",
      " 5   Skills              3522 non-null   object\n",
      "dtypes: object(6)\n",
      "memory usage: 165.2+ KB\n"
     ]
    }
   ],
   "source": [
    "df.info()"
   ]
  },
  {
   "cell_type": "code",
   "execution_count": 6,
   "metadata": {},
   "outputs": [
    {
     "name": "stdout",
     "output_type": "stream",
     "text": [
      "Missing values: \n",
      "Course Name           0\n",
      "University            0\n",
      "Difficulty Level      0\n",
      "Course Rating         0\n",
      "Course Description    0\n",
      "Skills                0\n",
      "dtype: int64\n"
     ]
    }
   ],
   "source": [
    "print(f\"Missing values: \\n{df.isna().sum()}\")"
   ]
  },
  {
   "cell_type": "code",
   "execution_count": 7,
   "metadata": {},
   "outputs": [
    {
     "data": {
      "text/html": [
       "<div>\n",
       "<style scoped>\n",
       "    .dataframe tbody tr th:only-of-type {\n",
       "        vertical-align: middle;\n",
       "    }\n",
       "\n",
       "    .dataframe tbody tr th {\n",
       "        vertical-align: top;\n",
       "    }\n",
       "\n",
       "    .dataframe thead th {\n",
       "        text-align: right;\n",
       "    }\n",
       "</style>\n",
       "<table border=\"1\" class=\"dataframe\">\n",
       "  <thead>\n",
       "    <tr style=\"text-align: right;\">\n",
       "      <th></th>\n",
       "      <th>count</th>\n",
       "      <th>unique</th>\n",
       "      <th>top</th>\n",
       "      <th>freq</th>\n",
       "    </tr>\n",
       "  </thead>\n",
       "  <tbody>\n",
       "    <tr>\n",
       "      <th>Course Name</th>\n",
       "      <td>3522</td>\n",
       "      <td>3416</td>\n",
       "      <td>Google Cloud Platform Fundamentals: Core Infra...</td>\n",
       "      <td>8</td>\n",
       "    </tr>\n",
       "    <tr>\n",
       "      <th>University</th>\n",
       "      <td>3522</td>\n",
       "      <td>184</td>\n",
       "      <td>Coursera Project Network</td>\n",
       "      <td>562</td>\n",
       "    </tr>\n",
       "    <tr>\n",
       "      <th>Difficulty Level</th>\n",
       "      <td>3522</td>\n",
       "      <td>5</td>\n",
       "      <td>Beginner</td>\n",
       "      <td>1444</td>\n",
       "    </tr>\n",
       "    <tr>\n",
       "      <th>Course Rating</th>\n",
       "      <td>3522</td>\n",
       "      <td>31</td>\n",
       "      <td>4.7</td>\n",
       "      <td>740</td>\n",
       "    </tr>\n",
       "    <tr>\n",
       "      <th>Course Description</th>\n",
       "      <td>3522</td>\n",
       "      <td>3397</td>\n",
       "      <td>This course introduces you to important concep...</td>\n",
       "      <td>8</td>\n",
       "    </tr>\n",
       "    <tr>\n",
       "      <th>Skills</th>\n",
       "      <td>3522</td>\n",
       "      <td>3424</td>\n",
       "      <td>Google Cloud Platform  Big Data  Cloud Infrast...</td>\n",
       "      <td>8</td>\n",
       "    </tr>\n",
       "  </tbody>\n",
       "</table>\n",
       "</div>"
      ],
      "text/plain": [
       "                   count unique  \\\n",
       "Course Name         3522   3416   \n",
       "University          3522    184   \n",
       "Difficulty Level    3522      5   \n",
       "Course Rating       3522     31   \n",
       "Course Description  3522   3397   \n",
       "Skills              3522   3424   \n",
       "\n",
       "                                                                  top  freq  \n",
       "Course Name         Google Cloud Platform Fundamentals: Core Infra...     8  \n",
       "University                                   Coursera Project Network   562  \n",
       "Difficulty Level                                             Beginner  1444  \n",
       "Course Rating                                                     4.7   740  \n",
       "Course Description  This course introduces you to important concep...     8  \n",
       "Skills              Google Cloud Platform  Big Data  Cloud Infrast...     8  "
      ]
     },
     "execution_count": 7,
     "metadata": {},
     "output_type": "execute_result"
    }
   ],
   "source": [
    "df.describe().T"
   ]
  },
  {
   "cell_type": "code",
   "execution_count": 8,
   "metadata": {},
   "outputs": [
    {
     "name": "stdout",
     "output_type": "stream",
     "text": [
      "Difficulty level distribution : \n",
      "Difficulty Level\n",
      "Beginner          1444\n",
      "Advanced          1005\n",
      "Intermediate       837\n",
      "Conversant         186\n",
      "Not Calibrated      50\n",
      "Name: count, dtype: int64\n"
     ]
    }
   ],
   "source": [
    "data = df['Difficulty Level'].value_counts()\n",
    "print(f\"Difficulty level distribution : \\n{data}\")"
   ]
  },
  {
   "cell_type": "markdown",
   "metadata": {},
   "source": [
    "DIFFICULTY LEVEL DISTRIBUTION"
   ]
  },
  {
   "cell_type": "code",
   "execution_count": 10,
   "metadata": {},
   "outputs": [
    {
     "data": {
      "image/png": "[encoded data removed]",
      "text/plain": [
       "<Figure size 700x700 with 1 Axes>"
      ]
     },
     "metadata": {},
     "output_type": "display_data"
    }
   ],
   "source": [
    "categories = df['Difficulty Level'].unique()\n",
    "values = df['Difficulty Level'].value_counts().values\n",
    "\n",
    "plt.figure(figsize=(7,7)) \n",
    "\n",
    "wedges, texts, autotexts = plt.pie(values, labels=categories, autopct='%1.1f%%', startangle=90, pctdistance=0.75, colors=['#ADD8E6', '#87CEEB', '#1E90FF','#0000CD','#000080'])\n",
    "\n",
    "for text in texts:\n",
    "    text.set_rotation(45)\n",
    "\n",
    "plt.title('Course Difficulty Distribution')\n",
    "\n",
    "plt.show()\n"
   ]
  },
  {
   "cell_type": "markdown",
   "metadata": {},
   "source": [
    "COURSE RATING DISTRIBUTION"
   ]
  },
  {
   "cell_type": "code",
   "execution_count": 12,
   "metadata": {},
   "outputs": [
    {
     "data": {
      "text/plain": [
       "Course Rating\n",
       "4.7               740\n",
       "4.6               623\n",
       "4.8               598\n",
       "4.5               389\n",
       "4.4               242\n",
       "4.9               180\n",
       "4.3               165\n",
       "4.2               121\n",
       "5                  90\n",
       "4.1                85\n",
       "Not Calibrated     82\n",
       "4                  51\n",
       "3.8                24\n",
       "3.9                20\n",
       "3.6                18\n",
       "3.7                18\n",
       "3.5                17\n",
       "3.4                13\n",
       "3                  12\n",
       "3.2                 9\n",
       "3.3                 6\n",
       "2.9                 6\n",
       "2.6                 2\n",
       "2.8                 2\n",
       "2.4                 2\n",
       "1                   2\n",
       "2                   1\n",
       "2.5                 1\n",
       "3.1                 1\n",
       "1.9                 1\n",
       "2.3                 1\n",
       "Name: count, dtype: int64"
      ]
     },
     "execution_count": 12,
     "metadata": {},
     "output_type": "execute_result"
    }
   ],
   "source": [
    "df['Course Rating'].value_counts()"
   ]
  },
  {
   "cell_type": "code",
   "execution_count": 13,
   "metadata": {},
   "outputs": [],
   "source": [
    "#Ignoring rows with rating = \"Not Calibrated\" and convert the rest on them to float\n",
    "df = df[df['Course Rating'] != 'Not Calibrated']\n",
    "df['Course Rating'] = df['Course Rating'].astype(float)"
   ]
  },
  {
   "cell_type": "code",
   "execution_count": 14,
   "metadata": {},
   "outputs": [],
   "source": [
    "df.drop_duplicates(inplace=True)"
   ]
  },
  {
   "cell_type": "code",
   "execution_count": 16,
   "metadata": {},
   "outputs": [
    {
     "name": "stderr",
     "output_type": "stream",
     "text": [
      "C:\\Users\\Surbhit Kumar\\AppData\\Local\\Temp\\ipykernel_40284\\3423189818.py:2: FutureWarning: \n",
      "\n",
      "Passing `palette` without assigning `hue` is deprecated and will be removed in v0.14.0. Assign the `x` variable to `hue` and set `legend=False` for the same effect.\n",
      "\n",
      "  sns.countplot(data=df,x='Course Rating',palette='plasma')\n"
     ]
    },
    {
     "data": {
      "text/plain": [
       "Text(0.5, 1.0, 'Courses count by rating')"
      ]
     },
     "execution_count": 16,
     "metadata": {},
     "output_type": "execute_result"
    },
    {
     "data": {
      "image/png": "[encoded data removed]",
      "text/plain": [
       "<Figure size 1800x700 with 1 Axes>"
      ]
     },
     "metadata": {},
     "output_type": "display_data"
    }
   ],
   "source": [
    "plt.figure(figsize=(18,7))\n",
    "sns.countplot(data=df,x='Course Rating',palette='plasma')\n",
    "plt.xlabel('Course Ratings',fontsize='16')\n",
    "plt.ylabel('Number of courses',fontsize='16')\n",
    "plt.xticks(fontsize='14',color='green')\n",
    "plt.yticks(fontsize='14',color='red')\n",
    "plt.title(\"Courses count by rating\",fontsize=24)"
   ]
  },
  {
   "cell_type": "markdown",
   "metadata": {},
   "source": [
    "Using TFIDF Vectorizer - Searching on the basic of course names"
   ]
  },
  {
   "cell_type": "code",
   "execution_count": 17,
   "metadata": {},
   "outputs": [],
   "source": [
    "cv = TfidfVectorizer()\n",
    "tfidf_matrix = cv.fit_transform(df['Course Name'])"
   ]
  },
  {
   "cell_type": "code",
   "execution_count": 18,
   "metadata": {},
   "outputs": [
    {
     "data": {
      "text/html": [
       "<div>\n",
       "<style scoped>\n",
       "    .dataframe tbody tr th:only-of-type {\n",
       "        vertical-align: middle;\n",
       "    }\n",
       "\n",
       "    .dataframe tbody tr th {\n",
       "        vertical-align: top;\n",
       "    }\n",
       "\n",
       "    .dataframe thead th {\n",
       "        text-align: right;\n",
       "    }\n",
       "</style>\n",
       "<table border=\"1\" class=\"dataframe\">\n",
       "  <thead>\n",
       "    <tr style=\"text-align: right;\">\n",
       "      <th>Course Name</th>\n",
       "      <th>\"Making\" Progress Teach-Out</th>\n",
       "      <th>3-Axis Machining with Autodesk Fusion 360</th>\n",
       "      <th>3D Art and Audio Pipeline</th>\n",
       "      <th>3D CAD Application</th>\n",
       "      <th>3D CAD Fundamental</th>\n",
       "      <th>3D Data Visualization for Science Communication</th>\n",
       "      <th>3D Graphics in Android: Sensors and VR</th>\n",
       "      <th>3D Interaction Design in Virtual Reality</th>\n",
       "      <th>3D Interactions and Navigation</th>\n",
       "      <th>3D Model Creation with Autodesk Fusion 360</th>\n",
       "      <th>...</th>\n",
       "      <th>Writing in English at University</th>\n",
       "      <th>Writing in First Person Point of View</th>\n",
       "      <th>Writing your World: Finding yourself in the academic space</th>\n",
       "      <th>e-Learning Ecologies: Innovative Approaches to Teaching and Learning for the Digital Age</th>\n",
       "      <th>eHealth: More than just an electronic record</th>\n",
       "      <th>iOS App Development Basics</th>\n",
       "      <th>iOS App Store &amp; In-App Purchases</th>\n",
       "      <th>iOS Project: Transreality Game</th>\n",
       "      <th>iPad Music Player in XD</th>\n",
       "      <th>idea 2 IMPACT: An Introduction to Translating Assistive Health Technologies and Other Products</th>\n",
       "    </tr>\n",
       "  </thead>\n",
       "  <tbody>\n",
       "    <tr>\n",
       "      <th>Course Rating</th>\n",
       "      <td>4.2</td>\n",
       "      <td>4.9</td>\n",
       "      <td>4.3</td>\n",
       "      <td>4.9</td>\n",
       "      <td>4.6</td>\n",
       "      <td>4.3</td>\n",
       "      <td>4.6</td>\n",
       "      <td>4.5</td>\n",
       "      <td>4.5</td>\n",
       "      <td>4.7</td>\n",
       "      <td>...</td>\n",
       "      <td>4.7</td>\n",
       "      <td>4.6</td>\n",
       "      <td>4.7</td>\n",
       "      <td>4.2</td>\n",
       "      <td>4.5</td>\n",
       "      <td>4.2</td>\n",
       "      <td>4.5</td>\n",
       "      <td>4.9</td>\n",
       "      <td>4.4</td>\n",
       "      <td>1.0</td>\n",
       "    </tr>\n",
       "  </tbody>\n",
       "</table>\n",
       "<p>1 rows × 3334 columns</p>\n",
       "</div>"
      ],
      "text/plain": [
       "Course Name    \"Making\" Progress Teach-Out  \\\n",
       "Course Rating                          4.2   \n",
       "\n",
       "Course Name    3-Axis Machining with Autodesk Fusion 360  \\\n",
       "Course Rating                                        4.9   \n",
       "\n",
       "Course Name    3D Art and Audio Pipeline  3D CAD Application  \\\n",
       "Course Rating                        4.3                 4.9   \n",
       "\n",
       "Course Name    3D CAD Fundamental  \\\n",
       "Course Rating                 4.6   \n",
       "\n",
       "Course Name    3D Data Visualization for Science Communication  \\\n",
       "Course Rating                                              4.3   \n",
       "\n",
       "Course Name    3D Graphics in Android: Sensors and VR  \\\n",
       "Course Rating                                     4.6   \n",
       "\n",
       "Course Name    3D Interaction Design in Virtual Reality  \\\n",
       "Course Rating                                       4.5   \n",
       "\n",
       "Course Name    3D Interactions and Navigation  \\\n",
       "Course Rating                             4.5   \n",
       "\n",
       "Course Name    3D Model Creation with Autodesk Fusion 360  ...  \\\n",
       "Course Rating                                         4.7  ...   \n",
       "\n",
       "Course Name    Writing in English at University  \\\n",
       "Course Rating                               4.7   \n",
       "\n",
       "Course Name    Writing in First Person Point of View  \\\n",
       "Course Rating                                    4.6   \n",
       "\n",
       "Course Name    Writing your World: Finding yourself in the academic space  \\\n",
       "Course Rating                                                4.7            \n",
       "\n",
       "Course Name    e-Learning Ecologies: Innovative Approaches to Teaching and Learning for the Digital Age  \\\n",
       "Course Rating                                                4.2                                          \n",
       "\n",
       "Course Name    eHealth: More than just an electronic record  \\\n",
       "Course Rating                                           4.5   \n",
       "\n",
       "Course Name    iOS App Development Basics  iOS App Store & In-App Purchases  \\\n",
       "Course Rating                         4.2                               4.5   \n",
       "\n",
       "Course Name    iOS Project: Transreality Game  iPad Music Player in XD  \\\n",
       "Course Rating                             4.9                      4.4   \n",
       "\n",
       "Course Name    idea 2 IMPACT: An Introduction to Translating Assistive Health Technologies and Other Products  \n",
       "Course Rating                                                1.0                                               \n",
       "\n",
       "[1 rows x 3334 columns]"
      ]
     },
     "execution_count": 18,
     "metadata": {},
     "output_type": "execute_result"
    }
   ],
   "source": [
    "course_user = df.pivot_table(columns='Course Name',values='Course Rating')\n",
    "course_user.head()"
   ]
  },
  {
   "cell_type": "code",
   "execution_count": 19,
   "metadata": {},
   "outputs": [],
   "source": [
    "cosine_sim = linear_kernel(tfidf_matrix, tfidf_matrix)\n",
    "indices = pd.Series(df.index,index=df['Course Name'])\n",
    "\n",
    "titles = df['Course Name']\n",
    "vectorizer = TfidfVectorizer(stop_words='english')\n",
    "tfidf_matrix = vectorizer.fit_transform(titles)"
   ]
  },
  {
   "cell_type": "code",
   "execution_count": 29,
   "metadata": {},
   "outputs": [],
   "source": [
    "def get_recommendations(input_string):\n",
    "    input_vector = vectorizer.transform([input_string])\n",
    "    cosine_similarities = cosine_similarity(input_vector, tfidf_matrix).flatten()\n",
    "    \n",
    "    # Sort courses based on similarity scores\n",
    "    sim_scores = sorted(enumerate(cosine_similarities), key=lambda x: x[1], reverse=True)\n",
    "    sim_scores = sim_scores[:10]  # Top 10 results\n",
    "    \n",
    "    # Extract course titles and similarity scores\n",
    "    course_indices = [i[0] for i in sim_scores]\n",
    "    similarity_scores = [round(i[1], 3) for i in sim_scores]\n",
    "    #Return course name, desc, uni, rating, difficulty level and sim score\n",
    "    recommendations = list(zip(titles.iloc[course_indices],\n",
    "                                df['University'].iloc[course_indices],\n",
    "                                df['Course Rating'].iloc[course_indices],\n",
    "                                df['Course Description'].iloc[course_indices],\n",
    "                                df['Difficulty Level'].iloc[course_indices],\n",
    "                                similarity_scores))\n",
    "    return recommendations"
   ]
  },
  {
   "cell_type": "code",
   "execution_count": 30,
   "metadata": {},
   "outputs": [],
   "source": [
    "recos = get_recommendations(\"programming\")"
   ]
  },
  {
   "cell_type": "code",
   "execution_count": 37,
   "metadata": {},
   "outputs": [
    {
     "name": "stdout",
     "output_type": "stream",
     "text": [
      "╒══════════════════════════════════════╤════════════════════════════════════════════════════╤══════════╤════════════════════════════════════════════════════════════════════════════════════════════════════════════════════════════════════════════════════════╤══════════════╤═════════╕\n",
      "│ Title                                │ University                                         │   Rating │ Description                                                                                                                                            │ Level        │   Score │\n",
      "╞══════════════════════════════════════╪════════════════════════════════════════════════════╪══════════╪════════════════════════════════════════════════════════════════════════════════════════════════════════════════════════════════════════════════════════╪══════════════╪═════════╡\n",
      "│ R Programming                        │ Johns Hopkins University                           │      4.4 │ In this course you will learn how to program in R and how to use R for effective data analysis. You will learn how to install and configure software   │ Conversant   │   1     │\n",
      "│                                      │                                                    │          │ necessary for a statistical programming environment and describe generic programming language concepts as they are implemented in a high-level         │              │         │\n",
      "│                                      │                                                    │          │ statistical language. The course covers practical issues in statistical computing which includes programming in R, reading data into R, accessing R    │              │         │\n",
      "│                                      │                                                    │          │ packages, writing R functions, debugging, profiling R code, and organizing and commenting R code. Topics in statistical data analysis will provide     │              │         │\n",
      "│                                      │                                                    │          │ working examples.                                                                                                                                      │              │         │\n",
      "├──────────────────────────────────────┼────────────────────────────────────────────────────┼──────────┼────────────────────────────────────────────────────────────────────────────────────────────────────────────────────────────────────────────────────────┼──────────────┼─────────┤\n",
      "│ Advanced R Programming               │ Johns Hopkins University                           │      4.2 │ This course covers Advanced topics in R programming that are necessary for developing powerful, robust, and reusable data science tools. Topics        │ Advanced     │   0.694 │\n",
      "│                                      │                                                    │          │ covered include functional programming in R, robust error handling, object oriented programming, profiling and benchmarking, debugging, and proper     │              │         │\n",
      "│                                      │                                                    │          │ design of functions. Upon completing this course you will be able to identify and abstract common data analysis tasks and to encapsulate them in user- │              │         │\n",
      "│                                      │                                                    │          │ facing functions. Because every data science environment encounters unique data challenges, there is always a need to develop custom software specific │              │         │\n",
      "│                                      │                                                    │          │ to your organization�s mission. You will also be able to define new data types in R and to develop a universe of functionality specific to those data  │              │         │\n",
      "│                                      │                                                    │          │ types to enable cleaner execution of data science tasks and stronger reusability within a team.                                                        │              │         │\n",
      "├──────────────────────────────────────┼────────────────────────────────────────────────────┼──────────┼────────────────────────────────────────────────────────────────────────────────────────────────────────────────────────────────────────────────────────┼──────────────┼─────────┤\n",
      "│ Programming with Scratch             │ The Hong Kong University of Science and Technology │      3.9 │ Learning coding is not only about understanding the programming language being used, but also developing important computational thinking skills,      │ Advanced     │   0.584 │\n",
      "│                                      │                                                    │          │ which are useful for problem solving across many disciplinary areas. In this course, students will learn basic programming skills by creating          │              │         │\n",
      "│                                      │                                                    │          │ interactive storybooks, animations, and games with Scratch, which is a block-based visual programming language for anyone new to coding.               │              │         │\n",
      "├──────────────────────────────────────┼────────────────────────────────────────────────────┼──────────┼────────────────────────────────────────────────────────────────────────────────────────────────────────────────────────────────────────────────────────┼──────────────┼─────────┤\n",
      "│ Introduction to Computer Programming │ University of London                               │      4.1 │ This MOOC provides you with the foundational skill set required to write computer programs. If you are interested in learning how to write             │ Advanced     │   0.58  │\n",
      "│                                      │                                                    │          │ interactive, graphical programs from an introductory level in a real programming language, this is the course for you. You will begin by learning the  │              │         │\n",
      "│                                      │                                                    │          │ basics of editing and running programs. Then you will learn how to create 2D graphics using shapes and coordinates. Finally, you will learn how to     │              │         │\n",
      "│                                      │                                                    │          │ create interactive graphics that you can control with the mouse. You will even solve a set of interactive puzzles using your coding skills in the      │              │         │\n",
      "│                                      │                                                    │          │ Sleuth game which has been created especially for this course. The course uses the Javascript language and the p5.js library.                          │              │         │\n",
      "├──────────────────────────────────────┼────────────────────────────────────────────────────┼──────────┼────────────────────────────────────────────────────────────────────────────────────────────────────────────────────────────────────────────────────────┼──────────────┼─────────┤\n",
      "│ Application Systems Programming      │ Unity                                              │      3.8 │ Welcome to Application Systems Programming, the second course in the Unity Certified Programmer Specialization from Unity Technologies.  This course   │ Advanced     │   0.554 │\n",
      "│                                      │                                                    │          │ will help you prepare for the Unity Certified Programmer exam, the professional certification for entry to mid-level Unity programmers. Unity is used  │              │         │\n",
      "│                                      │                                                    │          │ to create real-time 3D applications for many industries, including video games, automotive, film, training, and more. In this course, you will be      │              │         │\n",
      "│                                      │                                                    │          │ challenged to solve realistic Unity programming problems that are aligned to topics covered on the exam. Throughout the second course, you will expand │              │         │\n",
      "│                                      │                                                    │          │ upon the development of a 2D action video game that was started in the first course: AsteraX. In doing so, you will practice many of the skills        │              │         │\n",
      "│                                      │                                                    │          │ covered in the exam, including adding particles effects, implementing user customizations, managing user and application data, and optimizing for      │              │         │\n",
      "│                                      │                                                    │          │ different platforms.   This is an intermediate course, intended for people who are ready for their first paying roles as Unity programmers, or         │              │         │\n",
      "│                                      │                                                    │          │ enthusiasts who would like to verify their skills against a professional standard. To succeed, you should have at least 1-2 years of experience        │              │         │\n",
      "│                                      │                                                    │          │ programming interactive applications in Unity. You should be proficient at programming in the C# language and familiar with Unity's scripting APIs.    │              │         │\n",
      "│                                      │                                                    │          │ You should have experience in the full product development lifecycle, from concept to launch (and beyond). And you should understand multi-platform    │              │         │\n",
      "│                                      │                                                    │          │ development, including deploying applications to XR (AR and VR) platforms.                                                                             │              │         │\n",
      "├──────────────────────────────────────┼────────────────────────────────────────────────────┼──────────┼────────────────────────────────────────────────────────────────────────────────────────────────────────────────────────────────────────────────────────┼──────────────┼─────────┤\n",
      "│ Programming Languages, Part A        │ University of Washington                           │      4.9 │ This course is an introduction to the basic concepts of programming languages, with a strong emphasis on functional programming. The course uses the   │ Intermediate │   0.552 │\n",
      "│                                      │                                                    │          │ languages ML, Racket, and Ruby as vehicles for teaching the concepts, but the real intent is to teach enough about how any language �fits together� to │              │         │\n",
      "│                                      │                                                    │          │ make you more effective programming in any language -- and in learning new ones.  This course is neither particularly theoretical nor just about       │              │         │\n",
      "│                                      │                                                    │          │ programming specifics -- it will give you a framework for understanding how to use language constructs effectively and how to design correct and       │              │         │\n",
      "│                                      │                                                    │          │ elegant programs. By using different languages, you will learn to think more deeply than in terms of the particular syntax of one language. The        │              │         │\n",
      "│                                      │                                                    │          │ emphasis on functional programming is essential for learning how to write robust, reusable, composable, and elegant programs. Indeed, many of the most │              │         │\n",
      "│                                      │                                                    │          │ important ideas in modern languages have their roots in functional programming. Get ready to learn a fresh and beautiful way to look at software and   │              │         │\n",
      "│                                      │                                                    │          │ how to have fun building it.  The course assumes some prior experience with programming, as described in more detail in the first module.  The course  │              │         │\n",
      "│                                      │                                                    │          │ is divided into three Coursera courses: Part A, Part B, and Part C.  As explained in more detail in the first module of Part A, the overall course is  │              │         │\n",
      "│                                      │                                                    │          │ a substantial amount of challenging material, so the three-part format provides two intermediate milestones and opportunities for a pause before       │              │         │\n",
      "│                                      │                                                    │          │ continuing.  The three parts are designed to be completed in order and set up to motivate you to continue through to the end of Part C.  The three     │              │         │\n",
      "│                                      │                                                    │          │ parts are not quite equal in length: Part A is almost as substantial as Part B and Part C combined.  Week 1 of Part A has a more detailed list of      │              │         │\n",
      "│                                      │                                                    │          │ topics for all three parts of the course, but it is expected that most course participants will not (yet!) know what all these topics mean.            │              │         │\n",
      "├──────────────────────────────────────┼────────────────────────────────────────────────────┼──────────┼────────────────────────────────────────────────────────────────────────────────────────────────────────────────────────────────────────────────────────┼──────────────┼─────────┤\n",
      "│ Programming Languages, Part B        │ University of Washington                           │      4.9 │ [As described below, this is Part B of a 3-part course.  Participants should complete Part A first -- Part B \"dives right in\" and refers often to      │ Advanced     │   0.552 │\n",
      "│                                      │                                                    │          │ material from Part A.]  This course is an introduction to the basic concepts of programming languages, with a strong emphasis on functional            │              │         │\n",
      "│                                      │                                                    │          │ programming. The course uses the languages ML, Racket, and Ruby as vehicles for teaching the concepts, but the real intent is to teach enough about    │              │         │\n",
      "│                                      │                                                    │          │ how any language �fits together� to make you more effective programming in any language -- and in learning new ones.  This course is neither           │              │         │\n",
      "│                                      │                                                    │          │ particularly theoretical nor just about programming specifics -- it will give you a framework for understanding how to use language constructs         │              │         │\n",
      "│                                      │                                                    │          │ effectively and how to design correct and elegant programs. By using different languages, you will learn to think more deeply than in terms of the     │              │         │\n",
      "│                                      │                                                    │          │ particular syntax of one language. The emphasis on functional programming is essential for learning how to write robust, reusable, composable, and     │              │         │\n",
      "│                                      │                                                    │          │ elegant programs. Indeed, many of the most important ideas in modern languages have their roots in functional programming. Get ready to learn a fresh  │              │         │\n",
      "│                                      │                                                    │          │ and beautiful way to look at software and how to have fun building it.  The course assumes some prior experience with programming, as described in     │              │         │\n",
      "│                                      │                                                    │          │ more detail in the first module of Part A.  Part B assumes successful completion of Part A.  The course is divided into three Coursera courses: Part   │              │         │\n",
      "│                                      │                                                    │          │ A, Part B, and Part C.  As explained in more detail in the first module of Part A, the overall course is a substantial amount of challenging material, │              │         │\n",
      "│                                      │                                                    │          │ so the three-part format provides two intermediate milestones and opportunities for a pause before continuing.  The three parts are designed to be     │              │         │\n",
      "│                                      │                                                    │          │ completed in order and set up to motivate you to continue through to the end of Part C.    Week 1 of Part A has a more detailed list of topics for all │              │         │\n",
      "│                                      │                                                    │          │ three parts of the course, but it is expected that most course participants will not (yet!) know what all these topics mean.                           │              │         │\n",
      "├──────────────────────────────────────┼────────────────────────────────────────────────────┼──────────┼────────────────────────────────────────────────────────────────────────────────────────────────────────────────────────────────────────────────────────┼──────────────┼─────────┤\n",
      "│ Programming Languages, Part C        │ University of Washington                           │      5   │ [As described below, this is Part C of a 3-part course.  Participants should complete Parts A and B first -- Part C \"dives right in\" and refers often  │ Advanced     │   0.552 │\n",
      "│                                      │                                                    │          │ to material from Part A and Part B.]  This course is an introduction to the basic concepts of programming languages, with a strong emphasis on         │              │         │\n",
      "│                                      │                                                    │          │ functional programming. The course uses the languages ML, Racket, and Ruby as vehicles for teaching the concepts, but the real intent is to teach      │              │         │\n",
      "│                                      │                                                    │          │ enough about how any language �fits together� to make you more effective programming in any language -- and in learning new ones.  This course is      │              │         │\n",
      "│                                      │                                                    │          │ neither particularly theoretical nor just about programming specifics -- it will give you a framework for understanding how to use language constructs │              │         │\n",
      "│                                      │                                                    │          │ effectively and how to design correct and elegant programs. By using different languages, you will learn to think more deeply than in terms of the     │              │         │\n",
      "│                                      │                                                    │          │ particular syntax of one language. The emphasis on functional programming is essential for learning how to write robust, reusable, composable, and     │              │         │\n",
      "│                                      │                                                    │          │ elegant programs. Indeed, many of the most important ideas in modern languages have their roots in functional programming. Get ready to learn a fresh  │              │         │\n",
      "│                                      │                                                    │          │ and beautiful way to look at software and how to have fun building it.  The course assumes some prior experience with programming, as described in     │              │         │\n",
      "│                                      │                                                    │          │ more detail in the first module of Part A.  Part B assumes successful completion of Part A.  The course is divided into three Coursera courses: Part   │              │         │\n",
      "│                                      │                                                    │          │ A, Part B, and Part C.  As explained in more detail in the first module of Part A, the overall course is a substantial amount of challenging material, │              │         │\n",
      "│                                      │                                                    │          │ so the three-part format provides two intermediate milestones and opportunities for a pause before continuing.  The three parts are designed to be     │              │         │\n",
      "│                                      │                                                    │          │ completed in order and set up to motivate you to continue through to the end of Part C.    Week 1 of Part A has a more detailed list of topics for all │              │         │\n",
      "│                                      │                                                    │          │ three parts of the course, but it is expected that most course participants will not (yet!) know what all these topics mean.                           │              │         │\n",
      "├──────────────────────────────────────┼────────────────────────────────────────────────────┼──────────┼────────────────────────────────────────────────────────────────────────────────────────────────────────────────────────────────────────────────────────┼──────────────┼─────────┤\n",
      "│ Python Programming Essentials        │ Rice University                                    │      4.8 │ This course will introduce you to the wonderful world of Python programming!  We'll learn about the essential elements of programming and how to       │ Beginner     │   0.544 │\n",
      "│                                      │                                                    │          │ construct basic Python programs. We will cover expressions, variables, functions, logic, and conditionals, which are foundational concepts in computer │              │         │\n",
      "│                                      │                                                    │          │ programming. We will also teach you how to use Python modules, which enable you to benefit from the vast array of functionality that is already a part │              │         │\n",
      "│                                      │                                                    │          │ of the Python language. These concepts and skills will help you to begin to think like a computer programmer and to understand how to go about writing │              │         │\n",
      "│                                      │                                                    │          │ Python programs.  By the end of the course, you will be able to write short Python programs that are able to accomplish real, practical tasks. This    │              │         │\n",
      "│                                      │                                                    │          │ course is the foundation for building expertise in Python programming. As the first course in a specialization, it provides the necessary building     │              │         │\n",
      "│                                      │                                                    │          │ blocks for you to succeed at learning to write more complex Python programs.  This course uses Python 3.  While many Python programs continue to use   │              │         │\n",
      "│                                      │                                                    │          │ Python 2, Python 3 is the future of the Python programming language. This first course will use a Python 3 version of the CodeSkulptor development     │              │         │\n",
      "│                                      │                                                    │          │ environment, which is specifically designed to help beginning programmers learn quickly.  CodeSkulptor runs within any modern web browser and does not │              │         │\n",
      "│                                      │                                                    │          │ require you to install any software, allowing you to start writing and running small programs immediately.  In the later courses in this               │              │         │\n",
      "│                                      │                                                    │          │ specialization,  we will help you to move to more sophisticated desktop development environments.                                                      │              │         │\n",
      "├──────────────────────────────────────┼────────────────────────────────────────────────────┼──────────┼────────────────────────────────────────────────────────────────────────────────────────────────────────────────────────────────────────────────────────┼──────────────┼─────────┤\n",
      "│ Parallel programming                 │ �cole Polytechnique F�d�rale de Lausanne           │      4.4 │ With every smartphone and computer now boasting multiple processors, the use of functional ideas to facilitate parallel programming is becoming        │ Beginner     │   0.541 │\n",
      "│                                      │                                                    │          │ increasingly widespread. In this course, you'll learn the fundamentals of parallel programming, from task parallelism to data parallelism. In          │              │         │\n",
      "│                                      │                                                    │          │ particular, you'll see how many familiar ideas from functional programming map perfectly to to the data parallel paradigm. We'll start the nuts and    │              │         │\n",
      "│                                      │                                                    │          │ bolts how to effectively parallelize familiar collections operations, and we'll build up to parallel collections, a production-ready data parallel     │              │         │\n",
      "│                                      │                                                    │          │ collections library available in the Scala standard library. Throughout, we'll apply these concepts through several hands-on examples that analyze     │              │         │\n",
      "│                                      │                                                    │          │ real-world data, such as popular algorithms like k-means clustering.  Learning Outcomes. By the end of this course you will be able to:  - reason      │              │         │\n",
      "│                                      │                                                    │          │ about task and data parallel programs, - express common algorithms in a functional style and solve them in parallel, - competently microbenchmark      │              │         │\n",
      "│                                      │                                                    │          │ parallel code, - write programs that effectively use parallel collections to achieve performance  Recommended background: You should have at least one │              │         │\n",
      "│                                      │                                                    │          │ year programming experience. Proficiency with Java or C# is ideal, but experience with other languages such as C/C++, Python, Javascript or Ruby is    │              │         │\n",
      "│                                      │                                                    │          │ also sufficient. You should have some familiarity using the command line. This course is intended to be taken after Functional Program Design in       │              │         │\n",
      "│                                      │                                                    │          │ Scala: https://www.coursera.org/learn/progfun2.                                                                                                        │              │         │\n",
      "╘══════════════════════════════════════╧════════════════════════════════════════════════════╧══════════╧════════════════════════════════════════════════════════════════════════════════════════════════════════════════════════════════════════════════════════╧══════════════╧═════════╛\n"
     ]
    }
   ],
   "source": [
    "recommended_data = [(title, uni, rating, fill(desc, width=150), level, score) for title, uni, rating, desc, level, score in recos]\n",
    "\n",
    "headers = [\"Title\", \"University\", \"Rating\", \"Description\", \"Level\", \"Score\"]\n",
    "print(tabulate(recommended_data, headers=headers, tablefmt=\"fancy_grid\"))"
   ]
  },
  {
   "cell_type": "code",
   "execution_count": 3,
   "metadata": {},
   "outputs": [
    {
     "ename": "ImportError",
     "evalue": "cannot import name 'RecommendationClass' from 'recommendation' (d:\\Projects\\Movie-RecSys\\recommendation.py)",
     "output_type": "error",
     "traceback": [
      "\u001b[1;31m---------------------------------------------------------------------------\u001b[0m",
      "\u001b[1;31mImportError\u001b[0m                               Traceback (most recent call last)",
      "Cell \u001b[1;32mIn[3], line 1\u001b[0m\n\u001b[1;32m----> 1\u001b[0m \u001b[38;5;28;01mfrom\u001b[39;00m\u001b[38;5;250m \u001b[39m\u001b[38;5;21;01mrecommendation\u001b[39;00m\u001b[38;5;250m \u001b[39m\u001b[38;5;28;01mimport\u001b[39;00m RecommendationClass\n\u001b[0;32m      3\u001b[0m path \u001b[38;5;241m=\u001b[39m \u001b[38;5;124m\"\u001b[39m\u001b[38;5;124mdata/data.csv\u001b[39m\u001b[38;5;124m\"\u001b[39m\n",
      "\u001b[1;31mImportError\u001b[0m: cannot import name 'RecommendationClass' from 'recommendation' (d:\\Projects\\Movie-RecSys\\recommendation.py)"
     ]
    }
   ],
   "source": [
    "from recommendation import RecommendationClass\n",
    "\n",
    "path = \"data/data.csv\""
   ]
  },
  {
   "cell_type": "code",
   "execution_count": 41,
   "metadata": {},
   "outputs": [
    {
     "ename": "AttributeError",
     "evalue": "'Recomendations' object has no attribute 'get_recommendations'",
     "output_type": "error",
     "traceback": [
      "\u001b[1;31m---------------------------------------------------------------------------\u001b[0m",
      "\u001b[1;31mAttributeError\u001b[0m                            Traceback (most recent call last)",
      "Cell \u001b[1;32mIn[41], line 1\u001b[0m\n\u001b[1;32m----> 1\u001b[0m \u001b[43mrecs\u001b[49m\u001b[38;5;241;43m.\u001b[39;49m\u001b[43mget_recommendations\u001b[49m(\u001b[38;5;124m\"\u001b[39m\u001b[38;5;124mMachine Learning\u001b[39m\u001b[38;5;124m\"\u001b[39m)\n",
      "\u001b[1;31mAttributeError\u001b[0m: 'Recomendations' object has no attribute 'get_recommendations'"
     ]
    }
   ],
   "source": [
    "recs.get_recommendations(\"Machine Learning\")"
   ]
  },
  {
   "cell_type": "code",
   "execution_count": null,
   "metadata": {},
   "outputs": [],
   "source": []
  }
 ],
 "metadata": {
  "kernelspec": {
   "display_name": "movie-recsys",
   "language": "python",
   "name": "python3"
  },
  "language_info": {
   "codemirror_mode": {
    "name": "ipython",
    "version": 3
   },
   "file_extension": ".py",
   "mimetype": "text/x-python",
   "name": "python",
   "nbconvert_exporter": "python",
   "pygments_lexer": "ipython3",
   "version": "3.9.21"
  }
 },
 "nbformat": 4,
 "nbformat_minor": 2
}
